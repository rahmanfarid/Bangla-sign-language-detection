{
 "cells": [
  {
   "cell_type": "code",
   "execution_count": 60,
   "metadata": {
    "colab": {
     "base_uri": "https://localhost:8080/"
    },
    "id": "24ORYEHCJzaP",
    "outputId": "1f63a921-214c-411c-b802-6b72964d8f01"
   },
   "outputs": [],
   "source": [
    "from keras.preprocessing import image\n",
    "import numpy as np\n",
    "from keras_preprocessing.image import img_to_array, load_img\n",
    "import tensorflow as tf\n",
    "import matplotlib.pyplot as plt\n",
    "\n",
    "import keras\n",
    "import tensorflow as tf\n",
    "from keras.utils import load_img, img_to_array\n",
    "\n"
   ]
  },
  {
   "cell_type": "code",
   "execution_count": 97,
   "metadata": {},
   "outputs": [
    {
     "name": "stdout",
     "output_type": "stream",
     "text": [
      "1/1 [==============================] - 0s 194ms/step\n",
      "[[4.5702930e-10 9.9987376e-01 1.3351374e-10 1.2766333e-07 3.8730755e-12\n",
      "  1.3552382e-12 1.2611737e-04 7.8550187e-12 1.1682917e-10]]\n"
     ]
    }
   ],
   "source": [
    "new_model = tf.keras.models.load_model(r'C:\\Users\\Abdur Rahman\\Desktop\\Sign_language\\model_2')\n",
    "classes = ['1','2','3','4','5','6','7','8','9']\n",
    "\n",
    "prediction_image = r\"C:\\Users\\Abdur Rahman\\Desktop\\out\\2\\10.jpg\"\n",
    "#images = keras.utils.load_img(prediction_image, target_size=(60, 60))\n",
    "images = load_img( prediction_image , target_size=(90,90,3))    \n",
    "x = img_to_array(images)\n",
    "#x = tf.image.rgb_to_grayscale(x)\n",
    "x = np.expand_dims(x, axis=0)\n",
    "x = x/255.0\n",
    "\n",
    "#model = tf.keras.models.load_model('num_reader.model')\n",
    "predictions = new_model.predict(x)\n",
    "print(predictions)"
   ]
  },
  {
   "cell_type": "code",
   "execution_count": 98,
   "metadata": {
    "colab": {
     "base_uri": "https://localhost:8080/"
    },
    "id": "pZmvWfv_LMbm",
    "outputId": "ef268739-9d6d-4f31-a346-9537ca5c1ac4"
   },
   "outputs": [
    {
     "name": "stdout",
     "output_type": "stream",
     "text": [
      "[1, 3, 0, 2, 4, 5, 6, 7, 8, 9]\n"
     ]
    }
   ],
   "source": [
    "#Sort the predictions:\n",
    "list_index = [ 0,  1,  2,  3,  4,  5,  6,  7,  8,  9]\n",
    "y = predictions\n",
    "\n",
    "for i in range(4):\n",
    "      for j in range(4):\n",
    "            if y[0][list_index[i]] > y[0][list_index[j]]:\n",
    "                temp = list_index[i]\n",
    "                list_index[i] = list_index[j]\n",
    "                list_index[j] = temp\n",
    "                \n",
    "    #Show sorted labels\n",
    "print(list_index)"
   ]
  },
  {
   "cell_type": "code",
   "execution_count": 99,
   "metadata": {
    "colab": {
     "base_uri": "https://localhost:8080/",
     "height": 258
    },
    "id": "k_ZhOK1TcGX5",
    "outputId": "70cdabbd-6c04-4a50-bacb-0487d5b197bb"
   },
   "outputs": [
    {
     "name": "stdout",
     "output_type": "stream",
     "text": [
      "2\n"
     ]
    }
   ],
   "source": [
    "print(classes[list_index[0]])\n"
   ]
  }
 ],
 "metadata": {
  "colab": {
   "name": "Copy of Load disaster model.ipynb",
   "provenance": []
  },
  "kernelspec": {
   "display_name": "Python 3 (ipykernel)",
   "language": "python",
   "name": "python3"
  },
  "language_info": {
   "codemirror_mode": {
    "name": "ipython",
    "version": 3
   },
   "file_extension": ".py",
   "mimetype": "text/x-python",
   "name": "python",
   "nbconvert_exporter": "python",
   "pygments_lexer": "ipython3",
   "version": "3.9.12"
  }
 },
 "nbformat": 4,
 "nbformat_minor": 1
}
